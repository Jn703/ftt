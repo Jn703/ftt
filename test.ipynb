{
  "nbformat": 4,
  "nbformat_minor": 0,
  "metadata": {
    "colab": {
      "provenance": []
    },
    "kernelspec": {
      "name": "python3",
      "display_name": "Python 3"
    },
    "language_info": {
      "name": "python"
    },
    "accelerator": "GPU",
    "gpuClass": "standard"
  },
  "cells": [
    {
      "cell_type": "markdown",
      "source": [
        "#제목1\n",
        "##제목1\n",
        "###마크다운으로 이미지와 링클 넣기\n",
        "1.하나\n",
        "2.둘\n",
        "*이탤릭체 텍스트*\n",
        "3.셋\n",
        "--------------\n",
        "[네이버](https://www.naver.com)\n",
        "\n",
        "![장미](https://ssl.pstatic.net/melona/libs/1427/1427546/ad5ad63776d78e2465ce_20221222173104691.jpg)"
      ],
      "metadata": {
        "id": "r6FCdoSL7i_1"
      }
    },
    {
      "cell_type": "code",
      "source": [],
      "metadata": {
        "id": "oNH9BSvj6ooK"
      },
      "execution_count": null,
      "outputs": []
    },
    {
      "cell_type": "markdown",
      "source": [],
      "metadata": {
        "id": "K0-yG3aX5w8R"
      }
    },
    {
      "cell_type": "code",
      "source": [
        "jupyter nbconvert --to markdown \"/content/drive/"
      ],
      "metadata": {
        "id": "QznKbmwp80wu"
      },
      "execution_count": null,
      "outputs": []
    },
    {
      "cell_type": "code",
      "execution_count": null,
      "metadata": {
        "colab": {
          "base_uri": "https://localhost:8080/",
          "height": 35
        },
        "id": "wKR8Rtx3PKjg",
        "outputId": "4c114758-22bb-4778-82a8-a951e828a52c"
      },
      "outputs": [
        {
          "output_type": "execute_result",
          "data": {
            "text/plain": [
              "'Linux-5.10.133+-x86_64-with-glibc2.27'"
            ],
            "application/vnd.google.colaboratory.intrinsic+json": {
              "type": "string"
            }
          },
          "metadata": {},
          "execution_count": 9
        }
      ],
      "source": [
        "from tensorflow.python.client import device_lib\n",
        "device_lib.list_local_devices()\n",
        "import platform\n",
        "platform.platform()"
      ]
    },
    {
      "cell_type": "code",
      "source": [
        "cat /etc/issue.net"
      ],
      "metadata": {
        "colab": {
          "base_uri": "https://localhost:8080/"
        },
        "id": "gskOHBzBTtZh",
        "outputId": "997d0615-f8bd-472b-a253-c27be7df86d4"
      },
      "execution_count": null,
      "outputs": [
        {
          "output_type": "stream",
          "name": "stdout",
          "text": [
            "Ubuntu 18.04.6 LTS\n"
          ]
        }
      ]
    },
    {
      "cell_type": "code",
      "source": [
        "cat /proc/meminfo"
      ],
      "metadata": {
        "colab": {
          "base_uri": "https://localhost:8080/"
        },
        "id": "ZRuS_lmTUvX5",
        "outputId": "cab76afa-fc33-450e-d0d9-f6bb3fa0f090"
      },
      "execution_count": null,
      "outputs": [
        {
          "output_type": "stream",
          "name": "stdout",
          "text": [
            "MemTotal:       13297228 kB\n",
            "MemFree:         9533156 kB\n",
            "MemAvailable:   11862988 kB\n",
            "Buffers:           68696 kB\n",
            "Cached:          2200660 kB\n",
            "SwapCached:            0 kB\n",
            "Active:           579180 kB\n",
            "Inactive:        2860192 kB\n",
            "Active(anon):        892 kB\n",
            "Inactive(anon):   907304 kB\n",
            "Active(file):     578288 kB\n",
            "Inactive(file):  1952888 kB\n",
            "Unevictable:           0 kB\n",
            "Mlocked:               0 kB\n",
            "SwapTotal:             0 kB\n",
            "SwapFree:              0 kB\n",
            "Dirty:               436 kB\n",
            "Writeback:             0 kB\n",
            "AnonPages:       1169980 kB\n",
            "Mapped:           663664 kB\n",
            "Shmem:             11420 kB\n",
            "KReclaimable:      80216 kB\n",
            "Slab:             120424 kB\n",
            "SReclaimable:      80216 kB\n",
            "SUnreclaim:        40208 kB\n",
            "KernelStack:        4368 kB\n",
            "PageTables:        13328 kB\n",
            "NFS_Unstable:          0 kB\n",
            "Bounce:                0 kB\n",
            "WritebackTmp:          0 kB\n",
            "CommitLimit:     6648612 kB\n",
            "Committed_AS:    3387616 kB\n",
            "VmallocTotal:   34359738367 kB\n",
            "VmallocUsed:       52832 kB\n",
            "VmallocChunk:          0 kB\n",
            "Percpu:             1344 kB\n",
            "HardwareCorrupted:     0 kB\n",
            "AnonHugePages:         0 kB\n",
            "ShmemHugePages:        0 kB\n",
            "ShmemPmdMapped:        0 kB\n",
            "FileHugePages:         0 kB\n",
            "FilePmdMapped:         0 kB\n",
            "CmaTotal:              0 kB\n",
            "CmaFree:               0 kB\n",
            "HugePages_Total:       0\n",
            "HugePages_Free:        0\n",
            "HugePages_Rsvd:        0\n",
            "HugePages_Surp:        0\n",
            "Hugepagesize:       2048 kB\n",
            "Hugetlb:               0 kB\n",
            "DirectMap4k:      236352 kB\n",
            "DirectMap2M:     7100416 kB\n",
            "DirectMap1G:     8388608 kB\n"
          ]
        }
      ]
    },
    {
      "cell_type": "code",
      "source": [
        "!df -h"
      ],
      "metadata": {
        "colab": {
          "base_uri": "https://localhost:8080/"
        },
        "id": "0hl4E5balJIP",
        "outputId": "bb76c8da-1dba-4717-ff25-fb445a3b3643"
      },
      "execution_count": null,
      "outputs": [
        {
          "output_type": "stream",
          "name": "stdout",
          "text": [
            "Filesystem      Size  Used Avail Use% Mounted on\n",
            "overlay          79G   23G   56G  30% /\n",
            "tmpfs            64M     0   64M   0% /dev\n",
            "shm             5.7G     0  5.7G   0% /dev/shm\n",
            "/dev/root       2.0G  1.1G  910M  54% /sbin/docker-init\n",
            "/dev/sda1        50G   25G   26G  50% /opt/bin/.nvidia\n",
            "tmpfs           6.4G   48K  6.4G   1% /var/colab\n",
            "tmpfs           6.4G     0  6.4G   0% /proc/acpi\n",
            "tmpfs           6.4G     0  6.4G   0% /proc/scsi\n",
            "tmpfs           6.4G     0  6.4G   0% /sys/firmware\n"
          ]
        }
      ]
    },
    {
      "cell_type": "code",
      "source": [
        "!nvidia-smi"
      ],
      "metadata": {
        "colab": {
          "base_uri": "https://localhost:8080/"
        },
        "id": "kl_g61IAljjn",
        "outputId": "691bda1c-a720-480a-ac8b-9261f7334869"
      },
      "execution_count": null,
      "outputs": [
        {
          "output_type": "stream",
          "name": "stdout",
          "text": [
            "Mon Dec 26 10:16:21 2022       \n",
            "+-----------------------------------------------------------------------------+\n",
            "| NVIDIA-SMI 460.32.03    Driver Version: 460.32.03    CUDA Version: 11.2     |\n",
            "|-------------------------------+----------------------+----------------------+\n",
            "| GPU  Name        Persistence-M| Bus-Id        Disp.A | Volatile Uncorr. ECC |\n",
            "| Fan  Temp  Perf  Pwr:Usage/Cap|         Memory-Usage | GPU-Util  Compute M. |\n",
            "|                               |                      |               MIG M. |\n",
            "|===============================+======================+======================|\n",
            "|   0  Tesla T4            Off  | 00000000:00:04.0 Off |                    0 |\n",
            "| N/A   47C    P0    27W /  70W |    312MiB / 15109MiB |      0%      Default |\n",
            "|                               |                      |                  N/A |\n",
            "+-------------------------------+----------------------+----------------------+\n",
            "                                                                               \n",
            "+-----------------------------------------------------------------------------+\n",
            "| Processes:                                                                  |\n",
            "|  GPU   GI   CI        PID   Type   Process name                  GPU Memory |\n",
            "|        ID   ID                                                   Usage      |\n",
            "|=============================================================================|\n",
            "+-----------------------------------------------------------------------------+\n"
          ]
        }
      ]
    },
    {
      "cell_type": "code",
      "source": [
        "!python --version"
      ],
      "metadata": {
        "colab": {
          "base_uri": "https://localhost:8080/"
        },
        "id": "OasbGeCyloZk",
        "outputId": "3eb6d013-4ef4-4e89-bd5e-4eacf9607c84"
      },
      "execution_count": null,
      "outputs": [
        {
          "output_type": "stream",
          "name": "stdout",
          "text": [
            "Python 3.8.16\n"
          ]
        }
      ]
    },
    {
      "cell_type": "code",
      "source": [
        "!ls"
      ],
      "metadata": {
        "colab": {
          "base_uri": "https://localhost:8080/"
        },
        "id": "dVE6Y4rwnAVH",
        "outputId": "c5a73c92-b67c-410b-88c0-77e33f4205a9"
      },
      "execution_count": null,
      "outputs": [
        {
          "output_type": "stream",
          "name": "stdout",
          "text": [
            "sample_data\n"
          ]
        }
      ]
    },
    {
      "cell_type": "markdown",
      "source": [
        "# 새 섹션"
      ],
      "metadata": {
        "id": "f56qZ4wZYX_T"
      }
    }
  ]
}